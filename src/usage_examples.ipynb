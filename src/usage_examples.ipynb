{
 "cells": [
  {
   "cell_type": "code",
   "execution_count": 59,
   "metadata": {
    "collapsed": true,
    "pycharm": {
     "is_executing": false
    }
   },
   "outputs": [],
   "source": [
    "from scrape.model.core import CourseAndProgramCatalogue"
   ]
  },
  {
   "cell_type": "code",
   "execution_count": null,
   "outputs": [],
   "source": [
    "catalogue = CourseAndProgramCatalogue()"
   ],
   "metadata": {
    "collapsed": false,
    "pycharm": {
     "name": "#%%\n"
    }
   }
  },
  {
   "cell_type": "code",
   "execution_count": 61,
   "outputs": [
    {
     "data": {
      "text/plain": "['Undergraduate', 'Graduate', 'Non-degree Certificates']"
     },
     "metadata": {},
     "output_type": "execute_result",
     "execution_count": 61
    }
   ],
   "source": [
    "list(catalogue)"
   ],
   "metadata": {
    "collapsed": false,
    "pycharm": {
     "name": "#%%\n",
     "is_executing": false
    }
   }
  },
  {
   "cell_type": "code",
   "execution_count": 69,
   "outputs": [
    {
     "data": {
      "text/plain": "{'Aboriginal Business Administration': 'https://programs.usask.ca/edwards/aboriginal-business-administration/index.php',\n 'Aboriginal Public Administration': 'https://programs.usask.ca/arts-and-science/aboriginal-public-administration/index.php',\n 'Aboriginal Teacher Associate Certificate Program': 'https://programs.usask.ca/education/aboriginal-teacher-associate-certificate-program/index.php',\n 'Accounting': 'https://programs.usask.ca/edwards/accounting/index.php',\n 'Agribusiness': 'https://programs.usask.ca/agriculture-and-bioresources/agribusiness/index.php',\n 'Agribusiness Entrepreneurship': 'https://programs.usask.ca/agriculture-and-bioresources/agribusiness-entrepreneurship/index.php',\n 'Agricultural Biology': 'https://programs.usask.ca/agriculture-and-bioresources/agricultural-biology/index.php',\n 'Agricultural Economics': 'https://programs.usask.ca/agriculture-and-bioresources/agricultural-economics/index.php',\n 'Agronomy': 'https://programs.usask.ca/agriculture-and-bioresources/agronomy/index.php',\n 'Anatomy and Cell Biology': 'https://programs.usask.ca/arts-and-science/anatomy-and-cell-biology/index.php',\n 'Animal Bioscience': 'https://programs.usask.ca/agriculture-and-bioresources/animal-bioscience/index.php',\n 'Animal Science': 'https://programs.usask.ca/agriculture-and-bioresources/animal-science/index.php',\n 'Applied Mathematics': 'https://programs.usask.ca/arts-and-science/applied-mathematics/index.php',\n 'Applied Microbiology': 'https://programs.usask.ca/agriculture-and-bioresources/applied-microbiology/index.php',\n 'Applied Plant Ecology': 'https://programs.usask.ca/agriculture-and-bioresources/applied-plant-ecology/index.php',\n 'Archaeology': 'https://programs.usask.ca/arts-and-science/archaeology/index.php',\n 'Archaeology and Anthropology': 'https://programs.usask.ca/arts-and-science/archaeology-and-anthropology/index.php',\n 'Art History': 'https://programs.usask.ca/arts-and-science/art-history/index.php',\n 'Astronomy': 'https://programs.usask.ca/arts-and-science/astronomy/index.php',\n 'Aurora College Teacher Education Program': 'https://programs.usask.ca/education/itep/bed-itep-aurora.php',\n 'Biochemistry': 'https://programs.usask.ca/arts-and-science/biochemistry/index.php',\n 'Bioinformatics': 'https://programs.usask.ca/arts-and-science/bioinformatics/index.php',\n 'Biology': 'https://programs.usask.ca/arts-and-science/biology/index.php',\n 'Biological Research': 'https://programs.usask.ca/arts-and-science/biological-research/index.php',\n 'Biomedical Sciences': 'https://programs.usask.ca/arts-and-science/biochemistry-microbiology-and-immunology/index.php',\n 'Biotechnology': 'https://programs.usask.ca/agriculture-and-bioresources/biotechnology/index.php',\n 'Business': 'https://programs.usask.ca/edwards/certificate-business/index.php',\n 'Business Economics': 'https://programs.usask.ca/arts-and-science/business-economics/index.php',\n 'Canadian Literature in English': 'https://programs.usask.ca/arts-and-science/canadian-literature-in-english/index.php',\n 'Career and Guidance Studies': 'https://programs.usask.ca/education/post-degree-certificate-in-career-and-guidance-studies/index.php',\n 'Catholic Studies': 'https://programs.usask.ca/arts-and-science/catholic-studies/index.php',\n 'Chemical Engineering': 'https://programs.usask.ca/engineering/chemical-engineering/index.php',\n 'Chemistry': 'https://programs.usask.ca/arts-and-science/chemistry/index.php',\n 'Civil Engineering': 'https://programs.usask.ca/engineering/civil-engineering/index.php',\n 'Classical, Medieval and Renaissance Studies': 'https://programs.usask.ca/arts-and-science/classical-medieval-and-renaissance-studies/index.php',\n 'Classical and Medieval Latin': 'https://programs.usask.ca/arts-and-science/classical-medieval-latin/index.php',\n 'Classics': 'https://programs.usask.ca/arts-and-science/classics/index.php',\n 'Computer Engineering': 'https://programs.usask.ca/engineering/computer-engineering/index.php',\n 'Computer Science': 'https://programs.usask.ca/arts-and-science/computer-science/index.php',\n 'Computing': 'https://programs.usask.ca/arts-and-science/computing/index.php',\n 'Crime, Law and Justice Studies': 'https://programs.usask.ca/arts-and-science/crime-law-and-justice-studies/index.php',\n 'Criminology and Addictions': 'https://programs.usask.ca/arts-and-science/criminology-addictions/index.php',\n 'Critical Perspectives on Social Justice and the Common Good': 'https://programs.usask.ca/arts-and-science/critical-perspectives-on-social-justice-and-the-common-good/index.php',\n 'Crop Science': 'https://programs.usask.ca/agriculture-and-bioresources/crop-science/index.php',\n 'Dentistry - B.Sc.': 'https://programs.usask.ca/dentistry/bsc-dent/index.php',\n 'Dentistry - D.M.D.': 'https://programs.usask.ca/dentistry/dmd/index.php',\n 'Digital Culture and New Media': 'https://programs.usask.ca/arts-and-science/digital-culture-and-new-media/index.php',\n 'Drama': 'https://programs.usask.ca/arts-and-science/drama/index.php',\n 'Economics': 'https://programs.usask.ca/arts-and-science/economics/index.php',\n 'Education': 'https://programs.usask.ca/education/bachelor-of-education-bed/index.php',\n 'Education / Sequential Music': 'https://programs.usask.ca/education/bed-sequential-music/index.php',\n 'Education: Special Education': 'https://programs.usask.ca/education/post-degree-certificate-in-education-special-education/index.php',\n 'Electrical Engineering': 'https://programs.usask.ca/engineering/electrical-engineering/index.php',\n 'Engineering Physics': 'https://programs.usask.ca/engineering/engineering-physics/index.php',\n 'Engineering Professional Internship Program': 'https://programs.usask.ca/engineering/engineering-professional-internship-program/index.php',\n 'English': 'https://programs.usask.ca/arts-and-science-old/english/index.php',\n 'English as an Additional Language Education': 'https://programs.usask.ca/education/post-degree-certificate-in-english-as-an-additional-language-education/index.php',\n 'Entrepreneuship': 'https://programs.usask.ca/edwards/certificate-entrepreneurship/index.php',\n 'Environment and Society': 'https://programs.usask.ca/arts-and-science/environment-and-society/index.php',\n 'Environmental Biology': 'https://programs.usask.ca/arts-and-science/environmental-biology/index.php',\n 'Environmental Geosciences': 'https://programs.usask.ca/arts-and-science/environmental-geosciences/index.php',\n 'Environmental Engineering': 'https://programs.usask.ca/engineering/environmental-engineering/index.php',\n 'Environmental Science': 'https://programs.usask.ca/agriculture-and-bioresources/environmental-science/index.php',\n 'Ethics, Justice and Law': 'https://programs.usask.ca/arts-and-science/ethics-justice-and-law/index.php',\n 'Exercise and Sport Studies': 'https://programs.usask.ca/kinesiology/exercise-and-sport-studies/index.php',\n 'Field Crop Production': 'https://programs.usask.ca/agriculture-and-bioresources/field-crop-production/index.php',\n 'Finance': 'https://programs.usask.ca/edwards/finance/index.php',\n 'Food and Bioproduct Sciences': 'https://programs.usask.ca/agriculture-and-bioresources/food-and-bioproduct-sciences/index.php',\n 'Food Science': 'https://programs.usask.ca/arts-and-science/food-science/index.php',\n 'French': 'https://programs.usask.ca/arts-and-science/french/index.php',\n 'Geological Engineering': 'https://programs.usask.ca/engineering/geological-engineering/index.php',\n 'Geology': 'https://programs.usask.ca/arts-and-science/geology/index.php',\n 'Geomatics': 'https://programs.usask.ca/arts-and-science/geomatics/minor-geomatics.php',\n 'Geophysics': 'https://programs.usask.ca/arts-and-science/geophysics/index.php',\n 'German or Recognition': 'https://programs.usask.ca/arts-and-science/german/index.php',\n 'Global Business Stream and Advanced Global Business Stream': 'https://programs.usask.ca/edwards/global-business/index.php',\n 'Global Health': 'https://programs.usask.ca/medicine/global-health/index.php',\n 'Global Studies': 'https://programs.usask.ca/arts-and-science/global-studies/index.php',\n 'Health Studies': 'https://programs.usask.ca/arts-and-science/health-studies/index.php',\n 'History': 'https://programs.usask.ca/arts-and-science/history/index.php',\n 'Horticulture Science': 'https://programs.usask.ca/agriculture-and-bioresources/horticulture-science/index.php',\n 'Human Resources': 'https://programs.usask.ca/edwards/human-resources/index.php',\n 'Indian Teacher Education Program': 'https://programs.usask.ca/education/itep/index.php',\n 'Indigenous Governance and Politics': 'https://programs.usask.ca/arts-and-science/indigenous-governance-and-politics/index.php',\n 'Indigenous Languages': 'https://programs.usask.ca/education/certificate-in-indigenous-languages/index.php',\n 'Indigenous Studies': 'https://programs.usask.ca/arts-and-science/indigenous-studies/index.php',\n 'Interactive Systems Design': 'https://programs.usask.ca/arts-and-science/interactive-systems-design/index.php',\n 'International Dental Degree Program': 'https://programs.usask.ca/dentistry/iddp/index.php',\n 'Internationally Educated Teachers Certificate': 'https://programs.usask.ca/education/internationally-educated-teachers-certificate-ietc/index.php',\n 'International Studies': 'https://programs.usask.ca/arts-and-science/international-studies/index.php',\n 'Jazz': 'https://programs.usask.ca/arts-and-science/jazz/index.php',\n 'Jewish and Christian Origins': 'https://programs.usask.ca/arts-and-science/jewish-christian-origins/index.php',\n 'Kinesiology / Education - combined program': 'https://programs.usask.ca/education/bsc-kin-bed-combined-program/index.php',\n 'Kanawayihetaytan Askiy': 'https://programs.usask.ca/agriculture-and-bioresources/kanawayihetaytan-askiy/index.php',\n 'Law': 'https://programs.usask.ca/law/juris-doctor/index.php',\n 'Leadership in Post-Secondary Education': 'https://programs.usask.ca/education/certificate-in-leadership-in-post-secondary-education/index.php',\n 'Linguistics': 'https://programs.usask.ca/arts-and-science/linguistics/index.php',\n 'Management': 'https://programs.usask.ca/edwards/management/index.php',\n 'Marketing': 'https://programs.usask.ca/edwards/marketing/index.php',\n 'Mathematical Physics': 'https://programs.usask.ca/arts-and-science/mathematical-physics/index.php',\n 'Mathematics': 'https://programs.usask.ca/arts-and-science/mathematics/index.php',\n 'Mechanical Engineering': 'https://programs.usask.ca/engineering/mechanical-engineering/index.php',\n 'Medicine': 'https://programs.usask.ca/medicine/md/index.php',\n 'Microbiology and Immunology': 'https://programs.usask.ca/arts-and-science/microbiology-immunology/index.php',\n 'Modern Languages': 'https://programs.usask.ca/arts-and-science/modern-languages/index.php',\n 'Music': 'https://programs.usask.ca/arts-and-science/music/index.php',\n 'Music Education': 'https://programs.usask.ca/arts-and-science/music-education/index.php',\n 'Nursing': 'https://programs.usask.ca/nursing/bsn/index.php',\n 'Nursing, post-degree': 'https://programs.usask.ca/nursing/pdbsn/index.php',\n 'Nutrition': 'https://programs.usask.ca/pharmacy-nutrition/nutrition/index.php',\n 'One Health': 'https://programs.usask.ca/veterinary-medicine/certificate-one-health/index.php',\n 'Operations Management': 'https://programs.usask.ca/edwards/operations-management/index.php',\n 'Palaeobiology': 'https://programs.usask.ca/arts-and-science/palaeobiology/index.php',\n 'Pharmacy': 'https://programs.usask.ca/pharmacy-nutrition/pharmacy/index.php',\n 'Philosophy': 'https://programs.usask.ca/arts-and-science/philosophy/index.php',\n 'Physics': 'https://programs.usask.ca/arts-and-science/physics/index.php',\n 'Physiology and Pharmacology': 'https://programs.usask.ca/arts-and-science/physiology-and-pharmacology/index.php',\n 'Political Studies': 'https://programs.usask.ca/arts-and-science/political-studies/index.php',\n 'Politics and Law': 'https://programs.usask.ca/arts-and-science/politics-law/index.php',\n 'Postgraduate Medical Training Programs': 'https://programs.usask.ca/medicine/postgraduate-medical-training-programs/index.php',\n 'Practical and Applied Arts': 'https://programs.usask.ca/education/certificate-in-practical-and-applied-arts/index.php',\n 'Professional Communication': 'https://programs.usask.ca/engineering/professional-communication/index.php',\n 'Psychology': 'https://programs.usask.ca/arts-and-science/psychology/index.php',\n 'Rangeland Resources': 'https://programs.usask.ca/agriculture-and-bioresources/rangeland-resources/index.php',\n 'Regional and Urban Planning': 'https://programs.usask.ca/arts-and-science/regional-and-urban-planning/index.php',\n 'Religion and Culture': 'https://programs.usask.ca/arts-and-science/religion-culture/index.php',\n 'Resource Economics and Policy': 'https://programs.usask.ca/agriculture-and-bioresources/resource-economics-and-policy/index.php',\n 'Resource Science': 'https://programs.usask.ca/agriculture-and-bioresources/resource-science/index.php',\n 'Saskatchewan Urban Native Teacher Education Program': 'https://programs.usask.ca/education/suntep/index.php',\n 'Secondary Technical Vocational Education': 'https://programs.usask.ca/education/certificate-in-secondary-technical-vocational-education/index.php',\n 'Sociology': 'https://programs.usask.ca/arts-and-science-old/sociology-old/index.php',\n 'Soil Science': 'https://programs.usask.ca/agriculture-and-bioresources/soil-science/index.php',\n 'Spanish': 'https://programs.usask.ca/arts-and-science/spanish/index.php',\n 'Statistics': 'https://programs.usask.ca/arts-and-science/spanish/index.php',\n 'Studio Art': 'https://programs.usask.ca/arts-and-science-old/studio-art-old/index.php',\n 'Study of Indigenous Storytelling': 'https://programs.usask.ca/arts-and-science/study-indigenous-storytelling/index.php',\n 'Sustainability': 'https://programs.usask.ca/sens/sustainability/index.php',\n 'Teaching English as a Second Language Certificate': 'https://programs.usask.ca/education/undergraduate-certificate-in-teaching-english-as-a-second-language/index.php',\n 'Technical Vocational Stream': 'https://programs.usask.ca/education/bachelor-of-education-bed/technical-vocational-stream.php',\n 'Technological Innovation Certificate': 'https://programs.usask.ca/engineering/tech-innovation-cert/index.php',\n 'Toxicology': 'https://programs.usask.ca/arts-and-science/toxicology/index.php',\n 'Ukrainian': 'https://programs.usask.ca/arts-and-science/ukrainian/index.php',\n 'Ukrainian Studies': 'https://programs.usask.ca/arts-and-science/ukrainian-studies/index.php',\n 'Veterinary Medicine': 'https://programs.usask.ca/veterinary-medicine/dvm/index.php',\n 'Water Science': 'https://programs.usask.ca/arts-and-science/water-science/index.php',\n 'wîcêhtowin Theatre': 'https://programs.usask.ca/arts-and-science/wicehtowin-theatre/index.php',\n \"Women's and Gender Studies\": 'https://programs.usask.ca/arts-and-science/womens-and-gender-studies/index.php'}"
     },
     "metadata": {},
     "output_type": "execute_result",
     "execution_count": 69
    }
   ],
   "source": [
    "catalogue['Undergraduate']"
   ],
   "metadata": {
    "collapsed": false,
    "pycharm": {
     "name": "#%%\n",
     "is_executing": false
    }
   }
  },
  {
   "cell_type": "code",
   "execution_count": 68,
   "outputs": [
    {
     "data": {
      "text/plain": "(('Undergraduate', 'Aboriginal Business Administration'),\n ('Undergraduate', 'Aboriginal Public Administration'),\n ('Undergraduate', 'Aboriginal Teacher Associate Certificate Program'),\n ('Undergraduate', 'Accounting'),\n ('Undergraduate', 'Agribusiness'),\n ('Undergraduate', 'Agribusiness Entrepreneurship'),\n ('Undergraduate', 'Agricultural Biology'),\n ('Undergraduate', 'Agricultural Economics'),\n ('Undergraduate', 'Agronomy'),\n ('Undergraduate', 'Anatomy and Cell Biology'),\n ('Undergraduate', 'Animal Bioscience'),\n ('Undergraduate', 'Animal Science'),\n ('Undergraduate', 'Applied Mathematics'),\n ('Undergraduate', 'Applied Microbiology'),\n ('Undergraduate', 'Applied Plant Ecology'),\n ('Undergraduate', 'Archaeology'),\n ('Undergraduate', 'Archaeology and Anthropology'),\n ('Undergraduate', 'Art History'),\n ('Undergraduate', 'Astronomy'),\n ('Undergraduate', 'Aurora College Teacher Education Program'),\n ('Undergraduate', 'Biochemistry'),\n ('Undergraduate', 'Bioinformatics'),\n ('Undergraduate', 'Biology'),\n ('Undergraduate', 'Biological Research'),\n ('Undergraduate', 'Biomedical Sciences'),\n ('Undergraduate', 'Biotechnology'),\n ('Undergraduate', 'Business'),\n ('Undergraduate', 'Business Economics'),\n ('Undergraduate', 'Canadian Literature in English'),\n ('Undergraduate', 'Career and Guidance Studies'),\n ('Undergraduate', 'Catholic Studies'),\n ('Undergraduate', 'Chemical Engineering'),\n ('Undergraduate', 'Chemistry'),\n ('Undergraduate', 'Civil Engineering'),\n ('Undergraduate', 'Classical, Medieval and Renaissance Studies'),\n ('Undergraduate', 'Classical and Medieval Latin'),\n ('Undergraduate', 'Classics'),\n ('Undergraduate', 'Computer Engineering'),\n ('Undergraduate', 'Computer Science'),\n ('Undergraduate', 'Computing'),\n ('Undergraduate', 'Crime, Law and Justice Studies'),\n ('Undergraduate', 'Criminology and Addictions'),\n ('Undergraduate',\n  'Critical Perspectives on Social Justice and the Common Good'),\n ('Undergraduate', 'Crop Science'),\n ('Undergraduate', 'Dentistry - B.Sc.'),\n ('Undergraduate', 'Dentistry - D.M.D.'),\n ('Undergraduate', 'Digital Culture and New Media'),\n ('Undergraduate', 'Drama'),\n ('Undergraduate', 'Economics'),\n ('Undergraduate', 'Education'),\n ('Undergraduate', 'Education / Sequential Music'),\n ('Undergraduate', 'Education: Special Education'),\n ('Undergraduate', 'Electrical Engineering'),\n ('Undergraduate', 'Engineering Physics'),\n ('Undergraduate', 'Engineering Professional Internship Program'),\n ('Undergraduate', 'English'),\n ('Undergraduate', 'English as an Additional Language Education'),\n ('Undergraduate', 'Entrepreneuship'),\n ('Undergraduate', 'Environment and Society'),\n ('Undergraduate', 'Environmental Biology'),\n ('Undergraduate', 'Environmental Geosciences'),\n ('Undergraduate', 'Environmental Engineering'),\n ('Undergraduate', 'Environmental Science'),\n ('Undergraduate', 'Ethics, Justice and Law'),\n ('Undergraduate', 'Exercise and Sport Studies'),\n ('Undergraduate', 'Field Crop Production'),\n ('Undergraduate', 'Finance'),\n ('Undergraduate', 'Food and Bioproduct Sciences'),\n ('Undergraduate', 'Food Science'),\n ('Undergraduate', 'French'),\n ('Undergraduate', 'Geological Engineering'),\n ('Undergraduate', 'Geology'),\n ('Undergraduate', 'Geomatics'),\n ('Undergraduate', 'Geophysics'),\n ('Undergraduate', 'German or Recognition'),\n ('Undergraduate',\n  'Global Business Stream and Advanced Global Business Stream'),\n ('Undergraduate', 'Global Health'),\n ('Undergraduate', 'Global Studies'),\n ('Undergraduate', 'Health Studies'),\n ('Undergraduate', 'History'),\n ('Undergraduate', 'Horticulture Science'),\n ('Undergraduate', 'Human Resources'),\n ('Undergraduate', 'Indian Teacher Education Program'),\n ('Undergraduate', 'Indigenous Governance and Politics'),\n ('Undergraduate', 'Indigenous Languages'),\n ('Undergraduate', 'Indigenous Studies'),\n ('Undergraduate', 'Interactive Systems Design'),\n ('Undergraduate', 'International Dental Degree Program'),\n ('Undergraduate', 'Internationally Educated Teachers Certificate'),\n ('Undergraduate', 'International Studies'),\n ('Undergraduate', 'Jazz'),\n ('Undergraduate', 'Jewish and Christian Origins'),\n ('Undergraduate', 'Kinesiology / Education - combined program'),\n ('Undergraduate', 'Kanawayihetaytan Askiy'),\n ('Undergraduate', 'Law'),\n ('Undergraduate', 'Leadership in Post-Secondary Education'),\n ('Undergraduate', 'Linguistics'),\n ('Undergraduate', 'Management'),\n ('Undergraduate', 'Marketing'),\n ('Undergraduate', 'Mathematical Physics'),\n ('Undergraduate', 'Mathematics'),\n ('Undergraduate', 'Mechanical Engineering'),\n ('Undergraduate', 'Medicine'),\n ('Undergraduate', 'Microbiology and Immunology'),\n ('Undergraduate', 'Modern Languages'),\n ('Undergraduate', 'Music'),\n ('Undergraduate', 'Music Education'),\n ('Undergraduate', 'Nursing'),\n ('Undergraduate', 'Nursing, post-degree'),\n ('Undergraduate', 'Nutrition'),\n ('Undergraduate', 'One Health'),\n ('Undergraduate', 'Operations Management'),\n ('Undergraduate', 'Palaeobiology'),\n ('Undergraduate', 'Pharmacy'),\n ('Undergraduate', 'Philosophy'),\n ('Undergraduate', 'Physics'),\n ('Undergraduate', 'Physiology and Pharmacology'),\n ('Undergraduate', 'Political Studies'),\n ('Undergraduate', 'Politics and Law'),\n ('Undergraduate', 'Postgraduate Medical Training Programs'),\n ('Undergraduate', 'Practical and Applied Arts'),\n ('Undergraduate', 'Professional Communication'),\n ('Undergraduate', 'Psychology'),\n ('Undergraduate', 'Rangeland Resources'),\n ('Undergraduate', 'Regional and Urban Planning'),\n ('Undergraduate', 'Religion and Culture'),\n ('Undergraduate', 'Resource Economics and Policy'),\n ('Undergraduate', 'Resource Science'),\n ('Undergraduate', 'Saskatchewan Urban Native Teacher Education Program'),\n ('Undergraduate', 'Secondary Technical Vocational Education'),\n ('Undergraduate', 'Sociology'),\n ('Undergraduate', 'Soil Science'),\n ('Undergraduate', 'Spanish'),\n ('Undergraduate', 'Statistics'),\n ('Undergraduate', 'Studio Art'),\n ('Undergraduate', 'Study of Indigenous Storytelling'),\n ('Undergraduate', 'Sustainability'),\n ('Undergraduate', 'Teaching English as a Second Language Certificate'),\n ('Undergraduate', 'Technical Vocational Stream'),\n ('Undergraduate', 'Technological Innovation Certificate'),\n ('Undergraduate', 'Toxicology'),\n ('Undergraduate', 'Ukrainian'),\n ('Undergraduate', 'Ukrainian Studies'),\n ('Undergraduate', 'Veterinary Medicine'),\n ('Undergraduate', 'Water Science'),\n ('Undergraduate', 'wîcêhtowin Theatre'),\n ('Undergraduate', \"Women's and Gender Studies\"),\n ('Graduate', 'Aboriginal Agriculture and Land Management'),\n ('Graduate', 'Accounting'),\n ('Graduate', 'Agricultural Economics'),\n ('Graduate', 'Anatomy and Cell Biology'),\n ('Graduate', 'Animal and Poultry Science'),\n ('Graduate', 'Anthropology'),\n ('Graduate', 'Applied Economics'),\n ('Graduate', 'Applied Linguistics'),\n ('Graduate', 'Applied Microbiology'),\n ('Graduate', 'Archaeology'),\n ('Graduate', 'Biochemistry'),\n ('Graduate', 'Biological Engineering'),\n ('Graduate', 'Biological Psychiatry'),\n ('Graduate', 'Biology'),\n ('Graduate', 'Biomedical Engineering'),\n ('Graduate', 'Biostatistics'),\n ('Graduate', 'Business Administration'),\n ('Graduate', 'Chemical Engineering'),\n ('Graduate', 'Chemistry'),\n ('Graduate', 'Civil Engineering'),\n ('Graduate', 'Community and Population Health Sciences'),\n ('Graduate', 'Computer Science'),\n ('Graduate', 'Corrections'),\n ('Graduate', 'Curriculum Studies'),\n ('Graduate', 'Drama'),\n ('Graduate',\n  'Doctor of Pharmacy and Master of Business Administration Combined Degree'),\n ('Graduate', 'Economic Analysis for Public Policy'),\n ('Graduate', 'Economics'),\n ('Graduate', 'Education'),\n ('Graduate', 'Educational Administration'),\n ('Graduate', 'Educational Foundations'),\n ('Graduate', 'Educational Leadership'),\n ('Graduate', 'Educational Psychology and Special Education'),\n ('Graduate', 'Educational Technology and Design'),\n ('Graduate', 'Electrical Engineering'),\n ('Graduate', 'English'),\n ('Graduate', 'Environment and Sustainability'),\n ('Graduate', 'Environmental Engineering'),\n ('Graduate', 'Epidemiology'),\n ('Graduate', 'Field Epidemiology'),\n ('Graduate', 'Finance and Management Science'),\n ('Graduate', 'Food Science'),\n ('Graduate', 'French'),\n ('Graduate', 'Geography'),\n ('Graduate', 'Geological Sciences'),\n ('Graduate',\n  'Governance and Entrepreneurship in Northern and Indigenous Areas'),\n ('Graduate', 'Graduate Pathways Certificate'),\n ('Graduate', 'Health Professions Education'),\n ('Graduate', 'Health Sciences'),\n ('Graduate', 'History'),\n ('Graduate', 'Indigenous Studies'),\n ('Graduate',\n  'Improving Teaching and Learning in Health Professions Education'),\n ('Graduate', 'Individual Interdisciplinary Graduate Programs'),\n ('Graduate',\n  'Juris Doctor and Master of Business Administration Combined Degree'),\n ('Graduate', 'Kinesiology'),\n ('Graduate', 'Large Animal Clinical Sciences'),\n ('Graduate', 'Law'),\n ('Graduate', 'Leadership in Post-Secondary Education'),\n ('Graduate', 'Marketing'),\n ('Graduate', 'Mathematics'),\n ('Graduate', 'Mechanical Engineering'),\n ('Graduate', 'Microbiology and Immunology'),\n ('Graduate', 'Music'),\n ('Graduate', 'Non-Profit Management'),\n ('Graduate', 'Northern Governance and Development'),\n ('Graduate', 'Nursing'),\n ('Graduate', 'Nutrition'),\n ('Graduate', 'One Health'),\n ('Graduate', 'Pharmacology'),\n ('Graduate', 'Pharmacy'),\n ('Graduate', 'Philosophy'),\n ('Graduate', 'Physical Therapy'),\n ('Graduate', 'Physics and Engineering Physics'),\n ('Graduate', 'Physiology'),\n ('Graduate', 'Plant Sciences'),\n ('Graduate', 'Political Studies'),\n ('Graduate', 'Professional Skills Certificate'),\n ('Graduate', 'Psychology'),\n ('Graduate', 'Public Administration'),\n ('Graduate', 'Public Health'),\n ('Graduate', 'Public Management'),\n ('Graduate', 'Public Policy'),\n ('Graduate', 'Public Policy Analysis'),\n ('Graduate', 'Quality Teaching in Health Professions Education'),\n ('Graduate', 'Religion and Culture'),\n ('Graduate', 'Small Animal Clinical Sciences'),\n ('Graduate', 'Small Animal Specialty Veterinary Internship'),\n ('Graduate', 'Small Animal Rotating Veterinary Internship'),\n ('Graduate', 'Social Economy and Co-operatives'),\n ('Graduate', 'Sociology'),\n ('Graduate', 'Soil Science'),\n ('Graduate', 'Studio Art'),\n ('Graduate', 'Teaching English to Speakers of Other Languages'),\n ('Graduate', 'Toxicology'),\n ('Graduate', 'Vaccinology and Immunotherapeutics'),\n ('Graduate', 'Veterinary Biomedical Sciences'),\n ('Graduate', 'Veterinary Microbiology'),\n ('Graduate', 'Veterinary Pathology'),\n ('Graduate', 'Water Security'),\n ('Graduate', \"Women's, Gender and Sexualities Studies\"),\n ('Graduate', 'Writing'),\n ('Non-degree Certificates', 'Certificate in Dental Assisting'),\n ('Non-degree Certificates', 'Certificate in English for Academic Purposes'),\n ('Non-degree Certificates', 'Prairie Horticulture Certificate'),\n ('Non-degree Certificates', 'STEM Accelerator Certificate'))"
     },
     "metadata": {},
     "output_type": "execute_result",
     "execution_count": 68
    }
   ],
   "source": [
    "tuple(\n",
    "(parent, child)\n",
    "for (parent, children) in catalogue.items()\n",
    "for child in children\n",
    ")"
   ],
   "metadata": {
    "collapsed": false,
    "pycharm": {
     "name": "#%%\n",
     "is_executing": false
    }
   }
  },
  {
   "cell_type": "code",
   "execution_count": 1,
   "outputs": [
    {
     "data": {
      "text/plain": "<Element 'DOCUMENT_FRAGMENT' at 0x104c5c470>"
     },
     "metadata": {},
     "output_type": "execute_result",
     "execution_count": 1
    }
   ],
   "source": [
    "import html5lib\n",
    "from scrape.parse import clean_whitespace\n",
    "from scrape.model.page.courses_in_program import get_program_page\n",
    "\n",
    "level = 'Undergraduate'\n",
    "field = 'Bioinformatics'\n",
    "program = 'Bachelor of Science Four-year (B.Sc. Four-year)'\n",
    "program_page = get_program_page(program, field, level)\n",
    "content = clean_whitespace(program_page)\n",
    "pretty_content = html5lib.HTMLParser().parseFragment(content)\n",
    "pretty_content"
   ],
   "metadata": {
    "collapsed": false,
    "pycharm": {
     "name": "#%%\n",
     "is_executing": false
    }
   }
  }
 ],
 "metadata": {
  "kernelspec": {
   "display_name": "Python 3",
   "language": "python",
   "name": "python3"
  },
  "language_info": {
   "codemirror_mode": {
    "name": "ipython",
    "version": 2
   },
   "file_extension": ".py",
   "mimetype": "text/x-python",
   "name": "python",
   "nbconvert_exporter": "python",
   "pygments_lexer": "ipython2",
   "version": "2.7.6"
  },
  "pycharm": {
   "stem_cell": {
    "cell_type": "raw",
    "source": [],
    "metadata": {
     "collapsed": false
    }
   }
  }
 },
 "nbformat": 4,
 "nbformat_minor": 0
}